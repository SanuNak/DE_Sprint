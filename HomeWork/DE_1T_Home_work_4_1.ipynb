{
 "cells": [
  {
   "cell_type": "markdown",
   "id": "0d89f9d1",
   "metadata": {},
   "source": [
    "# Практика\n",
    "0. [Импорты](#0-bullet)\n",
    "1. [Скачайте данные по ссылке.](#1-bullet)\n",
    "2. [Исключите признаки, которые на ваш взгляд, могут привести к переобучению (например, id).](#2-bullet)\n",
    "3. [Заполним пустоты.](#3-bullet) \n",
    "4. [Преобразуйте категориальные признаки с помощью sklearn.preprocessing.OneHotEncoder, а некатегориальные с помощью sklearn.preprocessing.StandardScaler (на следующем занятии расскажем, зачем это нужно)](#4-bullet)\n",
    "5. [Разделите выборку на train и test.](#5-bullet)\n",
    "6. [Обучите модели логистической регрессии и KNN, посчитайте все метрики классификации, которые были упомянуты на занятии, сделайте выводы.](#6-bullet)\n",
    "7. [Подберите гиперпараметры для обоих моделей с помощью RandomizedSearchCV, напишите, почему, как вы думаете, эти параметры подошли.](#7-bullet)\n",
    "8. [Посчитайте метрики для новых моделей, также сделайте выводы.](#8-bullet)\n",
    "9. [Тестирование модели](#9-bullet)\n",
    "10. [Общие выводы](#10-bullet)\n"
   ]
  },
  {
   "cell_type": "markdown",
   "id": "c07161e3",
   "metadata": {},
   "source": [
    "### Импорты"
   ]
  },
  {
   "cell_type": "code",
   "execution_count": 77,
   "id": "5f19b8dd",
   "metadata": {},
   "outputs": [],
   "source": [
    "import pandas as pd\n",
    "\n",
    "from sklearn.model_selection import train_test_split\n",
    "from sklearn.model_selection import GridSearchCV\n",
    "from sklearn.preprocessing import OneHotEncoder\n",
    "from sklearn.preprocessing import StandardScaler \n",
    "\n",
    "from sklearn.linear_model import LogisticRegression\n",
    "from sklearn.neighbors import KNeighborsClassifier\n",
    "from sklearn.tree import DecisionTreeClassifier\n",
    "from sklearn.ensemble import RandomForestClassifier\n",
    "\n",
    "from sklearn.metrics import f1_score\n",
    "from sklearn.metrics import roc_auc_score\n",
    "from sklearn.metrics import roc_curve\n",
    "\n",
    "import warnings\n",
    "warnings.filterwarnings('ignore')\n",
    "\n",
    "import matplotlib.pyplot as plt\n",
    "\n"
   ]
  },
  {
   "cell_type": "markdown",
   "id": "a293b531",
   "metadata": {},
   "source": [
    "## 1. Скачайте данные по ссылке. <a class=\"anchor\" id=\"1-bullet\"></a>"
   ]
  },
  {
   "cell_type": "code",
   "execution_count": 78,
   "id": "d39534c6",
   "metadata": {},
   "outputs": [
    {
     "data": {
      "text/html": [
       "<div>\n",
       "<style scoped>\n",
       "    .dataframe tbody tr th:only-of-type {\n",
       "        vertical-align: middle;\n",
       "    }\n",
       "\n",
       "    .dataframe tbody tr th {\n",
       "        vertical-align: top;\n",
       "    }\n",
       "\n",
       "    .dataframe thead th {\n",
       "        text-align: right;\n",
       "    }\n",
       "</style>\n",
       "<table border=\"1\" class=\"dataframe\">\n",
       "  <thead>\n",
       "    <tr style=\"text-align: right;\">\n",
       "      <th></th>\n",
       "      <th>PassengerId</th>\n",
       "      <th>Survived</th>\n",
       "      <th>Pclass</th>\n",
       "      <th>Name</th>\n",
       "      <th>Sex</th>\n",
       "      <th>Age</th>\n",
       "      <th>SibSp</th>\n",
       "      <th>Parch</th>\n",
       "      <th>Ticket</th>\n",
       "      <th>Fare</th>\n",
       "      <th>Cabin</th>\n",
       "      <th>Embarked</th>\n",
       "    </tr>\n",
       "  </thead>\n",
       "  <tbody>\n",
       "    <tr>\n",
       "      <th>887</th>\n",
       "      <td>888</td>\n",
       "      <td>1</td>\n",
       "      <td>1</td>\n",
       "      <td>Graham, Miss. Margaret Edith</td>\n",
       "      <td>female</td>\n",
       "      <td>19.0</td>\n",
       "      <td>0</td>\n",
       "      <td>0</td>\n",
       "      <td>112053</td>\n",
       "      <td>30.00</td>\n",
       "      <td>B42</td>\n",
       "      <td>S</td>\n",
       "    </tr>\n",
       "    <tr>\n",
       "      <th>888</th>\n",
       "      <td>889</td>\n",
       "      <td>0</td>\n",
       "      <td>3</td>\n",
       "      <td>Johnston, Miss. Catherine Helen \"Carrie\"</td>\n",
       "      <td>female</td>\n",
       "      <td>NaN</td>\n",
       "      <td>1</td>\n",
       "      <td>2</td>\n",
       "      <td>W./C. 6607</td>\n",
       "      <td>23.45</td>\n",
       "      <td>NaN</td>\n",
       "      <td>S</td>\n",
       "    </tr>\n",
       "    <tr>\n",
       "      <th>889</th>\n",
       "      <td>890</td>\n",
       "      <td>1</td>\n",
       "      <td>1</td>\n",
       "      <td>Behr, Mr. Karl Howell</td>\n",
       "      <td>male</td>\n",
       "      <td>26.0</td>\n",
       "      <td>0</td>\n",
       "      <td>0</td>\n",
       "      <td>111369</td>\n",
       "      <td>30.00</td>\n",
       "      <td>C148</td>\n",
       "      <td>C</td>\n",
       "    </tr>\n",
       "    <tr>\n",
       "      <th>890</th>\n",
       "      <td>891</td>\n",
       "      <td>0</td>\n",
       "      <td>3</td>\n",
       "      <td>Dooley, Mr. Patrick</td>\n",
       "      <td>male</td>\n",
       "      <td>32.0</td>\n",
       "      <td>0</td>\n",
       "      <td>0</td>\n",
       "      <td>370376</td>\n",
       "      <td>7.75</td>\n",
       "      <td>NaN</td>\n",
       "      <td>Q</td>\n",
       "    </tr>\n",
       "  </tbody>\n",
       "</table>\n",
       "</div>"
      ],
      "text/plain": [
       "     PassengerId  Survived  Pclass                                      Name  \\\n",
       "887          888         1       1              Graham, Miss. Margaret Edith   \n",
       "888          889         0       3  Johnston, Miss. Catherine Helen \"Carrie\"   \n",
       "889          890         1       1                     Behr, Mr. Karl Howell   \n",
       "890          891         0       3                       Dooley, Mr. Patrick   \n",
       "\n",
       "        Sex   Age  SibSp  Parch      Ticket   Fare Cabin Embarked  \n",
       "887  female  19.0      0      0      112053  30.00   B42        S  \n",
       "888  female   NaN      1      2  W./C. 6607  23.45   NaN        S  \n",
       "889    male  26.0      0      0      111369  30.00  C148        C  \n",
       "890    male  32.0      0      0      370376   7.75   NaN        Q  "
      ]
     },
     "execution_count": 78,
     "metadata": {},
     "output_type": "execute_result"
    }
   ],
   "source": [
    "df_data = pd.read_csv(\"train.csv\")\n",
    "\n",
    "df_data.tail(4)"
   ]
  },
  {
   "cell_type": "code",
   "execution_count": 79,
   "id": "5ead36d9",
   "metadata": {},
   "outputs": [
    {
     "data": {
      "text/html": [
       "<div>\n",
       "<style scoped>\n",
       "    .dataframe tbody tr th:only-of-type {\n",
       "        vertical-align: middle;\n",
       "    }\n",
       "\n",
       "    .dataframe tbody tr th {\n",
       "        vertical-align: top;\n",
       "    }\n",
       "\n",
       "    .dataframe thead th {\n",
       "        text-align: right;\n",
       "    }\n",
       "</style>\n",
       "<table border=\"1\" class=\"dataframe\">\n",
       "  <thead>\n",
       "    <tr style=\"text-align: right;\">\n",
       "      <th></th>\n",
       "      <th>PassengerId</th>\n",
       "      <th>Survived</th>\n",
       "      <th>Pclass</th>\n",
       "      <th>Name</th>\n",
       "      <th>Sex</th>\n",
       "      <th>Age</th>\n",
       "      <th>SibSp</th>\n",
       "      <th>Parch</th>\n",
       "      <th>Ticket</th>\n",
       "      <th>Fare</th>\n",
       "      <th>Cabin</th>\n",
       "      <th>Embarked</th>\n",
       "    </tr>\n",
       "  </thead>\n",
       "  <tbody>\n",
       "    <tr>\n",
       "      <th>count</th>\n",
       "      <td>891.000000</td>\n",
       "      <td>891.000000</td>\n",
       "      <td>891.000000</td>\n",
       "      <td>891</td>\n",
       "      <td>891</td>\n",
       "      <td>714.000000</td>\n",
       "      <td>891.000000</td>\n",
       "      <td>891.000000</td>\n",
       "      <td>891</td>\n",
       "      <td>891.000000</td>\n",
       "      <td>204</td>\n",
       "      <td>889</td>\n",
       "    </tr>\n",
       "    <tr>\n",
       "      <th>unique</th>\n",
       "      <td>NaN</td>\n",
       "      <td>NaN</td>\n",
       "      <td>NaN</td>\n",
       "      <td>891</td>\n",
       "      <td>2</td>\n",
       "      <td>NaN</td>\n",
       "      <td>NaN</td>\n",
       "      <td>NaN</td>\n",
       "      <td>681</td>\n",
       "      <td>NaN</td>\n",
       "      <td>147</td>\n",
       "      <td>3</td>\n",
       "    </tr>\n",
       "    <tr>\n",
       "      <th>top</th>\n",
       "      <td>NaN</td>\n",
       "      <td>NaN</td>\n",
       "      <td>NaN</td>\n",
       "      <td>Braund, Mr. Owen Harris</td>\n",
       "      <td>male</td>\n",
       "      <td>NaN</td>\n",
       "      <td>NaN</td>\n",
       "      <td>NaN</td>\n",
       "      <td>347082</td>\n",
       "      <td>NaN</td>\n",
       "      <td>B96 B98</td>\n",
       "      <td>S</td>\n",
       "    </tr>\n",
       "    <tr>\n",
       "      <th>freq</th>\n",
       "      <td>NaN</td>\n",
       "      <td>NaN</td>\n",
       "      <td>NaN</td>\n",
       "      <td>1</td>\n",
       "      <td>577</td>\n",
       "      <td>NaN</td>\n",
       "      <td>NaN</td>\n",
       "      <td>NaN</td>\n",
       "      <td>7</td>\n",
       "      <td>NaN</td>\n",
       "      <td>4</td>\n",
       "      <td>644</td>\n",
       "    </tr>\n",
       "    <tr>\n",
       "      <th>mean</th>\n",
       "      <td>446.000000</td>\n",
       "      <td>0.383838</td>\n",
       "      <td>2.308642</td>\n",
       "      <td>NaN</td>\n",
       "      <td>NaN</td>\n",
       "      <td>29.699118</td>\n",
       "      <td>0.523008</td>\n",
       "      <td>0.381594</td>\n",
       "      <td>NaN</td>\n",
       "      <td>32.204208</td>\n",
       "      <td>NaN</td>\n",
       "      <td>NaN</td>\n",
       "    </tr>\n",
       "    <tr>\n",
       "      <th>std</th>\n",
       "      <td>257.353842</td>\n",
       "      <td>0.486592</td>\n",
       "      <td>0.836071</td>\n",
       "      <td>NaN</td>\n",
       "      <td>NaN</td>\n",
       "      <td>14.526497</td>\n",
       "      <td>1.102743</td>\n",
       "      <td>0.806057</td>\n",
       "      <td>NaN</td>\n",
       "      <td>49.693429</td>\n",
       "      <td>NaN</td>\n",
       "      <td>NaN</td>\n",
       "    </tr>\n",
       "    <tr>\n",
       "      <th>min</th>\n",
       "      <td>1.000000</td>\n",
       "      <td>0.000000</td>\n",
       "      <td>1.000000</td>\n",
       "      <td>NaN</td>\n",
       "      <td>NaN</td>\n",
       "      <td>0.420000</td>\n",
       "      <td>0.000000</td>\n",
       "      <td>0.000000</td>\n",
       "      <td>NaN</td>\n",
       "      <td>0.000000</td>\n",
       "      <td>NaN</td>\n",
       "      <td>NaN</td>\n",
       "    </tr>\n",
       "    <tr>\n",
       "      <th>25%</th>\n",
       "      <td>223.500000</td>\n",
       "      <td>0.000000</td>\n",
       "      <td>2.000000</td>\n",
       "      <td>NaN</td>\n",
       "      <td>NaN</td>\n",
       "      <td>20.125000</td>\n",
       "      <td>0.000000</td>\n",
       "      <td>0.000000</td>\n",
       "      <td>NaN</td>\n",
       "      <td>7.910400</td>\n",
       "      <td>NaN</td>\n",
       "      <td>NaN</td>\n",
       "    </tr>\n",
       "    <tr>\n",
       "      <th>50%</th>\n",
       "      <td>446.000000</td>\n",
       "      <td>0.000000</td>\n",
       "      <td>3.000000</td>\n",
       "      <td>NaN</td>\n",
       "      <td>NaN</td>\n",
       "      <td>28.000000</td>\n",
       "      <td>0.000000</td>\n",
       "      <td>0.000000</td>\n",
       "      <td>NaN</td>\n",
       "      <td>14.454200</td>\n",
       "      <td>NaN</td>\n",
       "      <td>NaN</td>\n",
       "    </tr>\n",
       "    <tr>\n",
       "      <th>75%</th>\n",
       "      <td>668.500000</td>\n",
       "      <td>1.000000</td>\n",
       "      <td>3.000000</td>\n",
       "      <td>NaN</td>\n",
       "      <td>NaN</td>\n",
       "      <td>38.000000</td>\n",
       "      <td>1.000000</td>\n",
       "      <td>0.000000</td>\n",
       "      <td>NaN</td>\n",
       "      <td>31.000000</td>\n",
       "      <td>NaN</td>\n",
       "      <td>NaN</td>\n",
       "    </tr>\n",
       "    <tr>\n",
       "      <th>max</th>\n",
       "      <td>891.000000</td>\n",
       "      <td>1.000000</td>\n",
       "      <td>3.000000</td>\n",
       "      <td>NaN</td>\n",
       "      <td>NaN</td>\n",
       "      <td>80.000000</td>\n",
       "      <td>8.000000</td>\n",
       "      <td>6.000000</td>\n",
       "      <td>NaN</td>\n",
       "      <td>512.329200</td>\n",
       "      <td>NaN</td>\n",
       "      <td>NaN</td>\n",
       "    </tr>\n",
       "  </tbody>\n",
       "</table>\n",
       "</div>"
      ],
      "text/plain": [
       "        PassengerId    Survived      Pclass                     Name   Sex  \\\n",
       "count    891.000000  891.000000  891.000000                      891   891   \n",
       "unique          NaN         NaN         NaN                      891     2   \n",
       "top             NaN         NaN         NaN  Braund, Mr. Owen Harris  male   \n",
       "freq            NaN         NaN         NaN                        1   577   \n",
       "mean     446.000000    0.383838    2.308642                      NaN   NaN   \n",
       "std      257.353842    0.486592    0.836071                      NaN   NaN   \n",
       "min        1.000000    0.000000    1.000000                      NaN   NaN   \n",
       "25%      223.500000    0.000000    2.000000                      NaN   NaN   \n",
       "50%      446.000000    0.000000    3.000000                      NaN   NaN   \n",
       "75%      668.500000    1.000000    3.000000                      NaN   NaN   \n",
       "max      891.000000    1.000000    3.000000                      NaN   NaN   \n",
       "\n",
       "               Age       SibSp       Parch  Ticket        Fare    Cabin  \\\n",
       "count   714.000000  891.000000  891.000000     891  891.000000      204   \n",
       "unique         NaN         NaN         NaN     681         NaN      147   \n",
       "top            NaN         NaN         NaN  347082         NaN  B96 B98   \n",
       "freq           NaN         NaN         NaN       7         NaN        4   \n",
       "mean     29.699118    0.523008    0.381594     NaN   32.204208      NaN   \n",
       "std      14.526497    1.102743    0.806057     NaN   49.693429      NaN   \n",
       "min       0.420000    0.000000    0.000000     NaN    0.000000      NaN   \n",
       "25%      20.125000    0.000000    0.000000     NaN    7.910400      NaN   \n",
       "50%      28.000000    0.000000    0.000000     NaN   14.454200      NaN   \n",
       "75%      38.000000    1.000000    0.000000     NaN   31.000000      NaN   \n",
       "max      80.000000    8.000000    6.000000     NaN  512.329200      NaN   \n",
       "\n",
       "       Embarked  \n",
       "count       889  \n",
       "unique        3  \n",
       "top           S  \n",
       "freq        644  \n",
       "mean        NaN  \n",
       "std         NaN  \n",
       "min         NaN  \n",
       "25%         NaN  \n",
       "50%         NaN  \n",
       "75%         NaN  \n",
       "max         NaN  "
      ]
     },
     "execution_count": 79,
     "metadata": {},
     "output_type": "execute_result"
    }
   ],
   "source": [
    "# Смотрим статистику по датафрейму\n",
    "df_data.describe(include='all')"
   ]
  },
  {
   "cell_type": "code",
   "execution_count": 80,
   "id": "f4e4aeff",
   "metadata": {},
   "outputs": [
    {
     "name": "stdout",
     "output_type": "stream",
     "text": [
      "<class 'pandas.core.frame.DataFrame'>\n",
      "RangeIndex: 891 entries, 0 to 890\n",
      "Data columns (total 12 columns):\n",
      " #   Column       Non-Null Count  Dtype  \n",
      "---  ------       --------------  -----  \n",
      " 0   PassengerId  891 non-null    int64  \n",
      " 1   Survived     891 non-null    int64  \n",
      " 2   Pclass       891 non-null    int64  \n",
      " 3   Name         891 non-null    object \n",
      " 4   Sex          891 non-null    object \n",
      " 5   Age          714 non-null    float64\n",
      " 6   SibSp        891 non-null    int64  \n",
      " 7   Parch        891 non-null    int64  \n",
      " 8   Ticket       891 non-null    object \n",
      " 9   Fare         891 non-null    float64\n",
      " 10  Cabin        204 non-null    object \n",
      " 11  Embarked     889 non-null    object \n",
      "dtypes: float64(2), int64(5), object(5)\n",
      "memory usage: 83.7+ KB\n"
     ]
    }
   ],
   "source": [
    "df_data.info()"
   ]
  },
  {
   "cell_type": "code",
   "execution_count": 81,
   "id": "409378f3",
   "metadata": {},
   "outputs": [
    {
     "data": {
      "text/plain": [
       "(891, 12)"
      ]
     },
     "execution_count": 81,
     "metadata": {},
     "output_type": "execute_result"
    }
   ],
   "source": [
    "df_data[pd.isna(df_data)==False].shape"
   ]
  },
  {
   "cell_type": "markdown",
   "id": "744f364f",
   "metadata": {},
   "source": [
    "## 2. Исключите признаки, которые на ваш взгляд, могут привести к переобучению (например, id). <a class=\"anchor\" id=\"2-bullet\"></a>"
   ]
  },
  {
   "cell_type": "code",
   "execution_count": 82,
   "id": "f47c53bf",
   "metadata": {},
   "outputs": [
    {
     "data": {
      "text/html": [
       "<div>\n",
       "<style scoped>\n",
       "    .dataframe tbody tr th:only-of-type {\n",
       "        vertical-align: middle;\n",
       "    }\n",
       "\n",
       "    .dataframe tbody tr th {\n",
       "        vertical-align: top;\n",
       "    }\n",
       "\n",
       "    .dataframe thead th {\n",
       "        text-align: right;\n",
       "    }\n",
       "</style>\n",
       "<table border=\"1\" class=\"dataframe\">\n",
       "  <thead>\n",
       "    <tr style=\"text-align: right;\">\n",
       "      <th></th>\n",
       "      <th>Survived</th>\n",
       "      <th>Pclass</th>\n",
       "      <th>Sex</th>\n",
       "      <th>Age</th>\n",
       "      <th>SibSp</th>\n",
       "      <th>Parch</th>\n",
       "      <th>Fare</th>\n",
       "      <th>Embarked</th>\n",
       "    </tr>\n",
       "  </thead>\n",
       "  <tbody>\n",
       "    <tr>\n",
       "      <th>0</th>\n",
       "      <td>0</td>\n",
       "      <td>3</td>\n",
       "      <td>male</td>\n",
       "      <td>22.0</td>\n",
       "      <td>1</td>\n",
       "      <td>0</td>\n",
       "      <td>7.2500</td>\n",
       "      <td>S</td>\n",
       "    </tr>\n",
       "    <tr>\n",
       "      <th>1</th>\n",
       "      <td>1</td>\n",
       "      <td>1</td>\n",
       "      <td>female</td>\n",
       "      <td>38.0</td>\n",
       "      <td>1</td>\n",
       "      <td>0</td>\n",
       "      <td>71.2833</td>\n",
       "      <td>C</td>\n",
       "    </tr>\n",
       "    <tr>\n",
       "      <th>2</th>\n",
       "      <td>1</td>\n",
       "      <td>3</td>\n",
       "      <td>female</td>\n",
       "      <td>26.0</td>\n",
       "      <td>0</td>\n",
       "      <td>0</td>\n",
       "      <td>7.9250</td>\n",
       "      <td>S</td>\n",
       "    </tr>\n",
       "  </tbody>\n",
       "</table>\n",
       "</div>"
      ],
      "text/plain": [
       "   Survived  Pclass     Sex   Age  SibSp  Parch     Fare Embarked\n",
       "0         0       3    male  22.0      1      0   7.2500        S\n",
       "1         1       1  female  38.0      1      0  71.2833        C\n",
       "2         1       3  female  26.0      0      0   7.9250        S"
      ]
     },
     "execution_count": 82,
     "metadata": {},
     "output_type": "execute_result"
    }
   ],
   "source": [
    "# Исходя из статистики, для предовтр переобучения удаляем те поля, которые по количеству уникальных значений\n",
    "# близки к общему количеству записей\n",
    "# в данном случае это \"PassengerId\", \"Name\", \"Ticket\"\n",
    "# также удалим три строчки с Nan в полях Embarked и Fare\n",
    "\n",
    "df_data.drop([\"PassengerId\", \"Name\", \"Ticket\", \"Cabin\"],axis=1, inplace=True)\n",
    "df_data.drop(df_data[pd.isna(df_data[\"Embarked\"])].index, axis=0, inplace=True)\n",
    "df_data.drop(df_data[pd.isna(df_data[\"Fare\"])].index, axis=0, inplace=True)\n",
    "\n",
    "df_data.head(3)"
   ]
  },
  {
   "cell_type": "code",
   "execution_count": 83,
   "id": "7262e4cc",
   "metadata": {},
   "outputs": [],
   "source": [
    "# также удаляем дубликат\n",
    "df_data = df_data[df_data.duplicated()==False]"
   ]
  },
  {
   "cell_type": "code",
   "execution_count": 84,
   "id": "3304ccc2",
   "metadata": {},
   "outputs": [
    {
     "data": {
      "text/plain": [
       "(778, 8)"
      ]
     },
     "execution_count": 84,
     "metadata": {},
     "output_type": "execute_result"
    }
   ],
   "source": [
    "df_data.shape"
   ]
  },
  {
   "cell_type": "markdown",
   "id": "474f403a",
   "metadata": {},
   "source": [
    "## 3. Заполним пустоты. <a class=\"anchor\" id=\"3-bullet\"></a>"
   ]
  },
  {
   "cell_type": "code",
   "execution_count": 85,
   "id": "0cc6205c",
   "metadata": {},
   "outputs": [],
   "source": [
    "df_data_age_avg = int(df_data[\"Age\"].mean())\n",
    "df_data.loc[pd.isna(df_data[\"Age\"]), \"Age\"] = df_data_age_avg"
   ]
  },
  {
   "cell_type": "markdown",
   "id": "7ec48f9b",
   "metadata": {},
   "source": [
    "## 4. Преобразуйте категориальные признаки с помощью sklearn.preprocessing.OneHotEncoder.  а некатегориальные с помощью sklearn.preprocessing.StandardScaler (на следующем занятии расскажем, зачем это нужно)<a class=\"anchor\" id=\"4-bullet\"></a>"
   ]
  },
  {
   "cell_type": "markdown",
   "id": "be1ca28c",
   "metadata": {},
   "source": [
    "### Преобразование OneHotEncoder"
   ]
  },
  {
   "cell_type": "code",
   "execution_count": 86,
   "id": "f3ca589a",
   "metadata": {},
   "outputs": [],
   "source": [
    "# оперделяем колонки для трансформации OneHotEncoder и удаляем из общего DF для преобразования и обратной вставки\n",
    "categ = [\"Sex\", \"Embarked\", 'Pclass', 'SibSp', 'Parch']\n",
    "\n",
    "# применяем метод OneHotEncoder для тренировочного и тестового наборов\n",
    "ohe = OneHotEncoder(drop='first')\n",
    "data_ohe = ohe.fit_transform(df_data[categ].values)\n"
   ]
  },
  {
   "cell_type": "code",
   "execution_count": 87,
   "id": "253dbe78",
   "metadata": {},
   "outputs": [],
   "source": [
    "# получаем DF из преобразованных данных для тренировочного и тестового наборов\n",
    "df_ohe = pd.DataFrame(data_ohe.toarray(), columns=ohe.get_feature_names_out())\n",
    "df_data.drop(categ, axis=1, inplace=True)\n",
    "\n",
    "df_data_ohe = df_data.join(df_ohe, how =\"inner\")"
   ]
  },
  {
   "cell_type": "markdown",
   "id": "ef533fba",
   "metadata": {},
   "source": [
    "## 5. Разделите выборку на train и test.. <a class=\"anchor\" id=\"5-bullet\"></a>"
   ]
  },
  {
   "cell_type": "code",
   "execution_count": 88,
   "id": "c308dcdd",
   "metadata": {},
   "outputs": [
    {
     "name": "stdout",
     "output_type": "stream",
     "text": [
      "Размер features_train: (233, 2)\n",
      "Размер features_test: (545, 2)\n"
     ]
    }
   ],
   "source": [
    "df_train, df_test = train_test_split(df_data, test_size=0.7, random_state=12345)\n",
    "\n",
    "features_train = df_train.drop('Survived', axis=1) \n",
    "features_test = df_test.drop('Survived', axis=1) \n",
    "\n",
    "target_train = df_train['Survived'] \n",
    "target_test = df_test['Survived'] \n",
    "\n",
    "print(f\"Размер features_train: {features_train.shape}\")\n",
    "print(f\"Размер features_test: {features_test.shape}\")\n"
   ]
  },
  {
   "cell_type": "code",
   "execution_count": 89,
   "id": "f688ae5e",
   "metadata": {},
   "outputs": [
    {
     "data": {
      "text/plain": [
       "<AxesSubplot: >"
      ]
     },
     "execution_count": 89,
     "metadata": {},
     "output_type": "execute_result"
    },
    {
     "data": {
      "image/png": "[encoded data removed]",
      "text/plain": [
       "<Figure size 432x288 with 1 Axes>"
      ]
     },
     "metadata": {
      "needs_background": "light"
     },
     "output_type": "display_data"
    }
   ],
   "source": [
    "target_train.value_counts().plot(kind='bar')"
   ]
  },
  {
   "cell_type": "markdown",
   "id": "b8894ca6",
   "metadata": {},
   "source": [
    "### Выводы\n",
    "\n",
    "- Дисбаланс классов имеется существенный. Для улучшения качества обучения модели от дисбаланса надо избавиться"
   ]
  },
  {
   "cell_type": "markdown",
   "id": "fedd3636",
   "metadata": {},
   "source": [
    "### Преобразование StandardScaler"
   ]
  },
  {
   "cell_type": "code",
   "execution_count": 90,
   "id": "0c5d52d1",
   "metadata": {},
   "outputs": [],
   "source": [
    "# Выделим спискок для признаков для масштабирования (признаки с уникальными значениями более 10 )\n",
    "numeric = ['Age', 'Fare']\n",
    "# Создаем объект для масштабирования и обучаем его\n",
    "scaler_train = StandardScaler()\n",
    "scaler_train.fit(features_train[numeric])\n",
    "\n",
    "scaler_test = StandardScaler()\n",
    "scaler_test.fit(features_test[numeric])\n",
    "\n",
    "features_train[numeric] = scaler_train.transform(features_train[numeric])\n",
    "features_test[numeric] = scaler_test.transform(features_test[numeric])"
   ]
  },
  {
   "cell_type": "code",
   "execution_count": 91,
   "id": "7d2631e6",
   "metadata": {},
   "outputs": [
    {
     "data": {
      "text/html": [
       "<div>\n",
       "<style scoped>\n",
       "    .dataframe tbody tr th:only-of-type {\n",
       "        vertical-align: middle;\n",
       "    }\n",
       "\n",
       "    .dataframe tbody tr th {\n",
       "        vertical-align: top;\n",
       "    }\n",
       "\n",
       "    .dataframe thead th {\n",
       "        text-align: right;\n",
       "    }\n",
       "</style>\n",
       "<table border=\"1\" class=\"dataframe\">\n",
       "  <thead>\n",
       "    <tr style=\"text-align: right;\">\n",
       "      <th></th>\n",
       "      <th>Age</th>\n",
       "      <th>Fare</th>\n",
       "    </tr>\n",
       "  </thead>\n",
       "  <tbody>\n",
       "    <tr>\n",
       "      <th>449</th>\n",
       "      <td>1.633610</td>\n",
       "      <td>-0.127774</td>\n",
       "    </tr>\n",
       "    <tr>\n",
       "      <th>44</th>\n",
       "      <td>-0.872291</td>\n",
       "      <td>-0.473996</td>\n",
       "    </tr>\n",
       "    <tr>\n",
       "      <th>671</th>\n",
       "      <td>0.038946</td>\n",
       "      <td>0.201293</td>\n",
       "    </tr>\n",
       "    <tr>\n",
       "      <th>712</th>\n",
       "      <td>1.329864</td>\n",
       "      <td>0.201293</td>\n",
       "    </tr>\n",
       "  </tbody>\n",
       "</table>\n",
       "</div>"
      ],
      "text/plain": [
       "          Age      Fare\n",
       "449  1.633610 -0.127774\n",
       "44  -0.872291 -0.473996\n",
       "671  0.038946  0.201293\n",
       "712  1.329864  0.201293"
      ]
     },
     "execution_count": 91,
     "metadata": {},
     "output_type": "execute_result"
    }
   ],
   "source": [
    "features_train.head(4)"
   ]
  },
  {
   "cell_type": "markdown",
   "id": "0640b699",
   "metadata": {},
   "source": [
    "## 6. Обучите модели логистической регрессии и KNN, посчитайте все метрики классификации, которые были упомянуты на занятии, сделайте выводы. <a class=\"anchor\" id=\"5-bullet\"></a>"
   ]
  },
  {
   "cell_type": "markdown",
   "id": "20e7a6b9",
   "metadata": {},
   "source": [
    "## 7. Подберите гиперпараметры для обоих моделей с помощью RandomizedSearchCV, напишите, почему, как вы думаете, эти параметры подошли.. <a class=\"anchor\" id=\"7-bullet\"></a>"
   ]
  },
  {
   "cell_type": "markdown",
   "id": "fb5efdc6",
   "metadata": {},
   "source": [
    "### Обучаем модель Логистической регрессии"
   ]
  },
  {
   "cell_type": "code",
   "execution_count": 92,
   "id": "99bbfb53",
   "metadata": {},
   "outputs": [
    {
     "name": "stdout",
     "output_type": "stream",
     "text": [
      "\n",
      "{'solver': 'liblinear'}: f1 = 0.39747480106100797\n",
      "{'solver': 'liblinear'}: accuracy = 0.6566142460684551\n",
      "{'solver': 'newton-cg'}: roc_auc = 0.68171218275574\n"
     ]
    }
   ],
   "source": [
    "# выбрал лучший параметр для Логистической регрессии через GridSearchCV\n",
    "solver = ['newton-cg', 'lbfgs', 'liblinear', 'sag', 'saga']\n",
    "\n",
    "model_lr = LogisticRegression(random_state=42)\n",
    "\n",
    "# Search for best hyperparameters f1\n",
    "lregressor_params = {'solver':solver}\n",
    "grid_f1 = GridSearchCV(model_lr, \n",
    "                    lregressor_params,\n",
    "                    cv=5,\n",
    "                    verbose=0,\n",
    "                    scoring='f1')\n",
    "grid_f1.fit(features_train, target_train)\n",
    "\n",
    "# Search for best hyperparameters accuracy\n",
    "grid_acc = GridSearchCV(model_lr, \n",
    "                    lregressor_params,\n",
    "                    cv=5,\n",
    "                    verbose=0,\n",
    "                    scoring='accuracy')\n",
    "grid_acc.fit(features_train, target_train)\n",
    "\n",
    "# Search for best hyperparameters roc_auc\n",
    "grid_roc = GridSearchCV(model_lr, \n",
    "                    lregressor_params,\n",
    "                    cv=5,\n",
    "                    verbose=0,\n",
    "                    scoring='roc_auc')\n",
    "grid_roc.fit(features_train, target_train)\n",
    "\n",
    "print(\"\\n{}: f1 = {}\".format(grid_f1.best_params_, grid_f1.best_score_))\n",
    "print(\"{}: accuracy = {}\".format(grid_acc.best_params_, grid_acc.best_score_))\n",
    "print(\"{}: roc_auc = {}\".format(grid_roc.best_params_, grid_roc.best_score_))"
   ]
  },
  {
   "cell_type": "markdown",
   "id": "b4971643",
   "metadata": {},
   "source": [
    "### Обучаем модель КНН"
   ]
  },
  {
   "cell_type": "code",
   "execution_count": 93,
   "id": "f69cc905",
   "metadata": {},
   "outputs": [
    {
     "name": "stdout",
     "output_type": "stream",
     "text": [
      "\n",
      "{'n_neighbors': 2, 'p': 2, 'weights': 'distance'}: f1 = 0.5405439005439006\n",
      "{'n_neighbors': 6, 'p': 5, 'weights': 'uniform'}: accuracy = 0.6649398704902867\n",
      "{'n_neighbors': 4, 'p': 1, 'weights': 'distance'}: roc_auc = 0.6679518480108316\n"
     ]
    }
   ],
   "source": [
    "# Define our candidate hyperparameters\n",
    "hp_candidates = [{'n_neighbors': [2, 3, 4 , 5, 6, 7, 8], \n",
    "                  'weights': ['uniform','distance', 'callable'],\n",
    "                  'p':[1, 2, 5, 7]}]\n",
    "\n",
    "model_knn = KNeighborsClassifier()\n",
    "\n",
    "# Search for best hyperparameters f1\n",
    "grid_f1 = GridSearchCV(model_knn, \n",
    "                      param_grid=hp_candidates, \n",
    "                      cv=5,\n",
    "                      verbose=0,  \n",
    "                      scoring='f1')\n",
    "grid_f1.fit(features_train, target_train)\n",
    "\n",
    "# Search for best hyperparameters accuracy\n",
    "grid_acc = GridSearchCV(model_knn, \n",
    "                      param_grid=hp_candidates, \n",
    "                      cv=5,\n",
    "                      verbose=0,  \n",
    "                      scoring='accuracy')\n",
    "grid_acc.fit(features_train, target_train)\n",
    "\n",
    "# Search for best hyperparameters roc_auc\n",
    "grid_roc = GridSearchCV(model_knn, \n",
    "                      param_grid=hp_candidates, \n",
    "                      cv=5,\n",
    "                      verbose=0,  \n",
    "                      scoring='roc_auc')\n",
    "grid_roc.fit(features_train, target_train)\n",
    "\n",
    "\n",
    "print(\"\\n{}: f1 = {}\".format(grid_f1.best_params_, grid_f1.best_score_))\n",
    "print(\"{}: accuracy = {}\".format(grid_acc.best_params_, grid_acc.best_score_))\n",
    "print(\"{}: roc_auc = {}\".format(grid_roc.best_params_, grid_roc.best_score_))"
   ]
  },
  {
   "cell_type": "markdown",
   "id": "c5f8265d",
   "metadata": {},
   "source": [
    "### Выводы\n",
    "\n",
    "1. Судя по результатам лучший показатель f1-меры дала модель KNeighbors =  f1 = 0.54\n",
    "2. Однако ROC_AUC лучше у LogisticRegression roc_auc = 0.68\n",
    "4. accuracy в случае дисбалансов классов теряет свою информативность и на нее не стоит полагаться.\n",
    "5. Посмотрим на работу деревянных моделей , может с ними результа получится лучше."
   ]
  },
  {
   "cell_type": "markdown",
   "id": "8e361a99",
   "metadata": {},
   "source": [
    "## 8. Посчитайте метрики для новых моделей, также сделайте выводы. <a class=\"anchor\" id=\"8-bullet\"></a>"
   ]
  },
  {
   "cell_type": "markdown",
   "id": "a8ef496a",
   "metadata": {},
   "source": [
    "### Обучаем модель Случайного леса"
   ]
  },
  {
   "cell_type": "code",
   "execution_count": 94,
   "id": "6ad1528a",
   "metadata": {},
   "outputs": [
    {
     "name": "stdout",
     "output_type": "stream",
     "text": [
      "\n",
      "{'max_depth': 1, 'n_estimators': 1}: f1 = 0.5915015294587047\n",
      "{'max_depth': 3, 'n_estimators': 31}: accuracy = 0.6695770704391394\n",
      "{'max_depth': 3, 'n_estimators': 61}: roc_auc = 0.6835374566238008\n"
     ]
    }
   ],
   "source": [
    "# Define our candidate hyperparameters\n",
    "max_deth_values = range(1, 11)\n",
    "max_n_estimators = range(1, 100, 10)\n",
    "rforest_params = {'max_depth':max_deth_values, \"n_estimators\": max_n_estimators}\n",
    "\n",
    "model_rfc = RandomForestClassifier(random_state=12345, class_weight='balanced')\n",
    "\n",
    "# Search for best hyperparameters f1\n",
    "grid_f1 = GridSearchCV(model_rfc, \n",
    "                      rforest_params, \n",
    "                      cv=2,\n",
    "                      verbose=0,  \n",
    "                      scoring='f1')\n",
    "grid_f1.fit(features_train, target_train)\n",
    "\n",
    "# Search for best hyperparameters accuracy\n",
    "grid_acc = GridSearchCV(model_rfc, \n",
    "                      rforest_params, \n",
    "                      cv=2,\n",
    "                      verbose=0,  \n",
    "                      scoring='accuracy')\n",
    "grid_acc.fit(features_train, target_train)\n",
    "\n",
    "# Search for best hyperparameters roc_auc\n",
    "grid_roc = GridSearchCV(model_rfc, \n",
    "                      rforest_params, \n",
    "                      cv=2,\n",
    "                      verbose=0,  \n",
    "                      scoring='roc_auc')\n",
    "grid_roc.fit(features_train, target_train)\n",
    "\n",
    "\n",
    "print(\"\\n{}: f1 = {}\".format(grid_f1.best_params_, grid_f1.best_score_))\n",
    "print(\"{}: accuracy = {}\".format(grid_acc.best_params_, grid_acc.best_score_))\n",
    "print(\"{}: roc_auc = {}\".format(grid_roc.best_params_, grid_roc.best_score_))"
   ]
  },
  {
   "cell_type": "markdown",
   "id": "7ff944ce",
   "metadata": {},
   "source": [
    "### Обучаем модель Дерева Решений"
   ]
  },
  {
   "cell_type": "code",
   "execution_count": 95,
   "id": "b0987029",
   "metadata": {},
   "outputs": [
    {
     "name": "stdout",
     "output_type": "stream",
     "text": [
      "\n",
      "{'max_depth': 1}: f1 = 0.6132650547284693\n",
      "{'max_depth': 8}: accuracy = 0.6653098982423682\n",
      "{'max_depth': 2}: roc_auc = 0.7016150289516896\n"
     ]
    }
   ],
   "source": [
    "# Define our candidate hyperparameters\n",
    "max_deth_values = range(1, 11)\n",
    "tree_params = {'max_depth':max_deth_values}\n",
    "\n",
    "model_dtc = DecisionTreeClassifier(random_state=12345)\n",
    "\n",
    "# Search for best hyperparameters f1\n",
    "grid_f1 = GridSearchCV(model_dtc, \n",
    "                      tree_params, \n",
    "                      cv=5,\n",
    "                      verbose=0,  \n",
    "                      scoring='f1')\n",
    "grid_f1.fit(features_train, target_train)\n",
    "\n",
    "# Search for best hyperparameters accuracy\n",
    "grid_acc = GridSearchCV(model_dtc, \n",
    "                      tree_params, \n",
    "                      cv=5,\n",
    "                      verbose=0,  \n",
    "                      scoring='accuracy')\n",
    "grid_acc.fit(features_train, target_train)\n",
    "\n",
    "# Search for best hyperparameters roc_auc\n",
    "grid_roc = GridSearchCV(model_dtc, \n",
    "                      tree_params, \n",
    "                      cv=5,\n",
    "                      verbose=0,  \n",
    "                      scoring='roc_auc')\n",
    "grid_roc.fit(features_train, target_train)\n",
    "\n",
    "\n",
    "print(\"\\n{}: f1 = {}\".format(grid_f1.best_params_, grid_f1.best_score_))\n",
    "print(\"{}: accuracy = {}\".format(grid_acc.best_params_, grid_acc.best_score_))\n",
    "print(\"{}: roc_auc = {}\".format(grid_roc.best_params_, grid_roc.best_score_))"
   ]
  },
  {
   "cell_type": "markdown",
   "id": "ca2fe21e",
   "metadata": {},
   "source": [
    "### Выводы\n",
    "\n",
    "1. Судя по результатам лучший показатель f1-меры дала модель DecisionTree =  f1 = 0.61\n",
    "2. Эта модель также показала лучший показатель roc_auc = 0.70 (главное больше 0.5 т.е. точность вышк чем случайная)\n",
    "3. Помимо прочего эта модель легче и быстрее RandomForest, что тоже неплохо. Т.е. лучший результат за \"меньшие деньги\"\n",
    "4. f1 и Roc_auc утойчивы к несбалансированным классам и при этом адекватно показывают соотнесение precision и recall\n",
    "5. Выбираем модель DecisionTree"
   ]
  },
  {
   "cell_type": "markdown",
   "id": "465d1085",
   "metadata": {},
   "source": [
    "## 9. Тестирование модели <a class=\"anchor\" id=\"9-bullet\"></a>"
   ]
  },
  {
   "cell_type": "markdown",
   "id": "51f2b30c",
   "metadata": {},
   "source": [
    "### Протестируем выбранную модель с выбранным методом ухода от дисбаланса (class_weight='balanced')"
   ]
  },
  {
   "cell_type": "code",
   "execution_count": 96,
   "id": "30ba4357",
   "metadata": {},
   "outputs": [
    {
     "name": "stdout",
     "output_type": "stream",
     "text": [
      "Метрика f1_score равна: 0.5898989898989898\n"
     ]
    }
   ],
   "source": [
    "model_rfc = RandomForestClassifier(random_state=12345, max_depth=2, n_estimators=41, class_weight='balanced')\n",
    "model_rfc.fit(features_train, target_train)\n",
    "\n",
    "predict_model_rfc = model_rfc.predict(features_test)\n",
    "\n",
    "print(f\"Метрика f1_score равна: {f1_score(target_test, predict_model_rfc)}\")"
   ]
  },
  {
   "cell_type": "code",
   "execution_count": 97,
   "id": "83f3bfa5",
   "metadata": {},
   "outputs": [
    {
     "name": "stdout",
     "output_type": "stream",
     "text": [
      "Метрика auc_roc равна: 0.6798477143330938\n"
     ]
    }
   ],
   "source": [
    "probabilities_test = model_rfc.predict_proba(features_test)\n",
    "auc_roc = roc_auc_score(target_test, probabilities_test[:, 1])\n",
    "\n",
    "print(f\"Метрика auc_roc равна: {auc_roc}\")"
   ]
  },
  {
   "cell_type": "markdown",
   "id": "92656b7c",
   "metadata": {},
   "source": [
    "### Построим график roc_auc"
   ]
  },
  {
   "cell_type": "code",
   "execution_count": 98,
   "id": "a3f98395",
   "metadata": {},
   "outputs": [
    {
     "data": {
      "image/png": "[encoded data removed]",
      "text/plain": [
       "<Figure size 432x288 with 1 Axes>"
      ]
     },
     "metadata": {
      "needs_background": "light"
     },
     "output_type": "display_data"
    }
   ],
   "source": [
    "fpr, tpr, thresholds = roc_curve(target_test, probabilities_test[:, 1])\n",
    "\n",
    "plt.figure()\n",
    "\n",
    "plt.plot(fpr, tpr, linestyle='-')\n",
    "\n",
    "# ROC-кривая случайной модели (выглядит как прямая)\n",
    "plt.plot([0, 1], [0, 1], linestyle='--')\n",
    "plt.xlim(0,1)\n",
    "plt.ylim(0,1)\n",
    "plt.xlabel(\"False Positive Rate\")\n",
    "plt.ylabel(\"True Positive Rate\")\n",
    "plt.title(\"ROC-кривая\")\n",
    "\n",
    "\n",
    "plt.show()"
   ]
  },
  {
   "cell_type": "markdown",
   "id": "0d802ce3",
   "metadata": {},
   "source": [
    "## Общие выводы <a class=\"anchor\" id=\"10-bullet\"></a>\n",
    "\n",
    "1. При тестировании на тестовых данных модель также дает стабильный резульат близкий к первоначальному результату.\n",
    "2. Модель годиться чтобы ее использовать. \n",
    "3. Однако имеет смысл улучшить результ путем работы с признаками, с балнасировкой классов и тд"
   ]
  }
 ],
 "metadata": {
  "kernelspec": {
   "display_name": "Python 3 (ipykernel)",
   "language": "python",
   "name": "python3"
  },
  "language_info": {
   "codemirror_mode": {
    "name": "ipython",
    "version": 3
   },
   "file_extension": ".py",
   "mimetype": "text/x-python",
   "name": "python",
   "nbconvert_exporter": "python",
   "pygments_lexer": "ipython3",
   "version": "3.9.12"
  }
 },
 "nbformat": 4,
 "nbformat_minor": 5
}
